{
  "nbformat": 4,
  "nbformat_minor": 0,
  "metadata": {
    "colab": {
      "name": "DAY9(30-01-2020)",
      "provenance": [],
      "authorship_tag": "ABX9TyMea22AyQlaq+eFEWImOwOm",
      "include_colab_link": true
    },
    "kernelspec": {
      "name": "python3",
      "display_name": "Python 3"
    }
  },
  "cells": [
    {
      "cell_type": "markdown",
      "metadata": {
        "id": "view-in-github",
        "colab_type": "text"
      },
      "source": [
        "<a href=\"https://colab.research.google.com/github/MakamPreethikesav/jntua-phython/blob/master/DAY9(30_01_2020).ipynb\" target=\"_parent\"><img src=\"https://colab.research.google.com/assets/colab-badge.svg\" alt=\"Open In Colab\"/></a>"
      ]
    },
    {
      "cell_type": "code",
      "metadata": {
        "id": "glQfxjEc6MjO",
        "colab_type": "code",
        "colab": {}
      },
      "source": [
        ""
      ],
      "execution_count": 0,
      "outputs": []
    },
    {
      "cell_type": "markdown",
      "metadata": {
        "id": "7dAifyjn8Qwm",
        "colab_type": "text"
      },
      "source": [
        "# Markdown\n",
        "## Markdown\n",
        "### Markdown\n",
        "#### Markdown\n"
      ]
    },
    {
      "cell_type": "markdown",
      "metadata": {
        "id": "FhOQOj1O9BUH",
        "colab_type": "text"
      },
      "source": [
        "**Points**\n",
        "\n",
        "*Points*\n",
        "\n",
        "***Points***\n"
      ]
    },
    {
      "cell_type": "code",
      "metadata": {
        "id": "D8VFB1QeHOd-",
        "colab_type": "code",
        "colab": {
          "base_uri": "https://localhost:8080/",
          "height": 34
        },
        "outputId": "134ad6ad-0b2d-40f1-af88-1202ff58299a"
      },
      "source": [
        "print(\"hello  , Jntua\")"
      ],
      "execution_count": 1,
      "outputs": [
        {
          "output_type": "stream",
          "text": [
            "hello  , Jntua\n"
          ],
          "name": "stdout"
        }
      ]
    },
    {
      "cell_type": "markdown",
      "metadata": {
        "id": "ch_FD7KxHYn-",
        "colab_type": "text"
      },
      "source": [
        ""
      ]
    },
    {
      "cell_type": "markdown",
      "metadata": {
        "id": "yJbypI0FHYp1",
        "colab_type": "text"
      },
      "source": [
        "## Assignment"
      ]
    },
    {
      "cell_type": "code",
      "metadata": {
        "id": "cTeszIr5HgXY",
        "colab_type": "code",
        "colab": {
          "base_uri": "https://localhost:8080/",
          "height": 68
        },
        "outputId": "df3cf258-5395-4c84-ae0e-c75335468b50"
      },
      "source": [
        "n1 = 100 # single variable assignment\n",
        "print(n1)\n",
        "a = b = c = 10 # multi variable assignment of same value\n",
        "print(a,b,c)\n",
        "a1,b1,c1 = 100,200,300 # multiple variable assignment with different values\n",
        "print(a1,b1,c1)"
      ],
      "execution_count": 6,
      "outputs": [
        {
          "output_type": "stream",
          "text": [
            "100\n",
            "10 10 10\n",
            "100 200 300\n"
          ],
          "name": "stdout"
        }
      ]
    },
    {
      "cell_type": "markdown",
      "metadata": {
        "id": "dPaiteqmI8-D",
        "colab_type": "text"
      },
      "source": [
        ""
      ]
    },
    {
      "cell_type": "markdown",
      "metadata": {
        "id": "SJDFKzRtI9Ap",
        "colab_type": "text"
      },
      "source": [
        "# Data types and conversions\n",
        "* int\n",
        "* float\n",
        "* string\n"
      ]
    },
    {
      "cell_type": "code",
      "metadata": {
        "id": "z_AvgzYEJPIG",
        "colab_type": "code",
        "colab": {
          "base_uri": "https://localhost:8080/",
          "height": 34
        },
        "outputId": "41aa9c5e-fea8-4c72-9376-74165df29c1d"
      },
      "source": [
        "a = 100\n",
        "s1 = 10.2\n",
        "s2 = \"python\"\n",
        "print(type(a),type(s1),type(s2))"
      ],
      "execution_count": 10,
      "outputs": [
        {
          "output_type": "stream",
          "text": [
            "<class 'int'> <class 'float'> <class 'str'>\n"
          ],
          "name": "stdout"
        }
      ]
    },
    {
      "cell_type": "code",
      "metadata": {
        "id": "VWFv9Zc8KMob",
        "colab_type": "code",
        "colab": {
          "base_uri": "https://localhost:8080/",
          "height": 68
        },
        "outputId": "dddf2deb-10d8-4c31-be91-ab3f048cd515"
      },
      "source": [
        "i = 100\n",
        "print(type(i))\n",
        "s1 = str(i)\n",
        "print(type(s1))\n",
        "f1 = float(i)\n",
        "print(type(f1))"
      ],
      "execution_count": 11,
      "outputs": [
        {
          "output_type": "stream",
          "text": [
            "<class 'int'>\n",
            "<class 'str'>\n",
            "<class 'float'>\n"
          ],
          "name": "stdout"
        }
      ]
    },
    {
      "cell_type": "code",
      "metadata": {
        "id": "PpoLLhDHLJkX",
        "colab_type": "code",
        "colab": {
          "base_uri": "https://localhost:8080/",
          "height": 34
        },
        "outputId": "902a4590-754e-4774-8d75-61fe33f2e98d"
      },
      "source": [
        "# length\n",
        "a = 123456\n",
        "print(len(str(a)))"
      ],
      "execution_count": 13,
      "outputs": [
        {
          "output_type": "stream",
          "text": [
            "6\n"
          ],
          "name": "stdout"
        }
      ]
    },
    {
      "cell_type": "markdown",
      "metadata": {
        "id": "LUexxepqL4v3",
        "colab_type": "text"
      },
      "source": [
        "# Reading input from user---input function"
      ]
    },
    {
      "cell_type": "code",
      "metadata": {
        "id": "m5ZUQEBoL_Xw",
        "colab_type": "code",
        "colab": {
          "base_uri": "https://localhost:8080/",
          "height": 68
        },
        "outputId": "b06e9f10-c788-4a4e-aae8-8cc5bfea3e62"
      },
      "source": [
        "a = input(\"enter your name\")\n",
        "print(a)\n",
        "print(type(a))"
      ],
      "execution_count": 14,
      "outputs": [
        {
          "output_type": "stream",
          "text": [
            "enter your namePREETHI KESAV\n",
            "PREETHI KESAV\n",
            "<class 'str'>\n"
          ],
          "name": "stdout"
        }
      ]
    },
    {
      "cell_type": "code",
      "metadata": {
        "id": "0PgZYZO8LJjL",
        "colab_type": "code",
        "colab": {
          "base_uri": "https://localhost:8080/",
          "height": 68
        },
        "outputId": "4560b11f-3188-4feb-831f-140258ca0ee9"
      },
      "source": [
        "B = int(input(\"enter your age  : \"))\n",
        "print(B)\n",
        "print(type(B))"
      ],
      "execution_count": 16,
      "outputs": [
        {
          "output_type": "stream",
          "text": [
            "enter your age  : 19\n",
            "19\n",
            "<class 'int'>\n"
          ],
          "name": "stdout"
        }
      ]
    },
    {
      "cell_type": "markdown",
      "metadata": {
        "id": "W1PMwpgnNfor",
        "colab_type": "text"
      },
      "source": [
        "# Operators\n",
        "- Operators is a symbol is used to perform a specific kind of operation"
      ]
    },
    {
      "cell_type": "markdown",
      "metadata": {
        "id": "5ycbd9dBN3yI",
        "colab_type": "text"
      },
      "source": [
        "# Arthemetic operator\n",
        "- +\n",
        "- -\n",
        "- *\n",
        "- /\n",
        "- %\n",
        "- //(float)(takes only integer part of quotient)\n",
        "- **(power of )"
      ]
    },
    {
      "cell_type": "code",
      "metadata": {
        "id": "QhqNj7-6ONQ2",
        "colab_type": "code",
        "colab": {
          "base_uri": "https://localhost:8080/",
          "height": 136
        },
        "outputId": "e2a325f1-c4d7-4fd0-b2bd-8897b3f5d579"
      },
      "source": [
        "a = 1234\n",
        "print(a+10)\n",
        "print(a-10)\n",
        "print(a*10)\n",
        "print(a/10)\n",
        "print(a%10)\n",
        "print(a//10)\n",
        "print(a**10)\n"
      ],
      "execution_count": 18,
      "outputs": [
        {
          "output_type": "stream",
          "text": [
            "1244\n",
            "1224\n",
            "12340\n",
            "123.4\n",
            "4\n",
            "123\n",
            "8187505353567209228244052427776\n"
          ],
          "name": "stdout"
        }
      ]
    },
    {
      "cell_type": "markdown",
      "metadata": {
        "id": "ZiosNrRtQczX",
        "colab_type": "text"
      },
      "source": [
        "# Relational operator\n",
        "- =\n",
        "- ==\n",
        "- !=\n",
        "- <\n",
        "- >\n",
        "- <=\n",
        "- >="
      ]
    },
    {
      "cell_type": "code",
      "metadata": {
        "id": "_Shcqr8pQ1Vg",
        "colab_type": "code",
        "colab": {
          "base_uri": "https://localhost:8080/",
          "height": 34
        },
        "outputId": "2bf0bca7-63da-4bb7-d015-162146173a1b"
      },
      "source": [
        "x = 10\n",
        "a1 = x > 15\n",
        "print(a1)"
      ],
      "execution_count": 19,
      "outputs": [
        {
          "output_type": "stream",
          "text": [
            "False\n"
          ],
          "name": "stdout"
        }
      ]
    },
    {
      "cell_type": "markdown",
      "metadata": {
        "id": "gDhV-borRasJ",
        "colab_type": "text"
      },
      "source": [
        "# logical operators\n",
        "- and (both conditions has to satisfy,then true)\n",
        "- or (any one condition satisfy then true)\n",
        "- not\n"
      ]
    },
    {
      "cell_type": "code",
      "metadata": {
        "id": "Rkxc8i9uRrEs",
        "colab_type": "code",
        "colab": {
          "base_uri": "https://localhost:8080/",
          "height": 68
        },
        "outputId": "21ad9440-78b4-41d5-db6a-8d4e48147c21"
      },
      "source": [
        "i = 100\n",
        "a1 = (i>15) and (i < 800)\n",
        "a2 = (i>15) or (i > 800)\n",
        "i = not 100\n",
        "print(a1)\n",
        "print(a2)\n",
        "print(i)"
      ],
      "execution_count": 21,
      "outputs": [
        {
          "output_type": "stream",
          "text": [
            "True\n",
            "True\n",
            "False\n"
          ],
          "name": "stdout"
        }
      ]
    },
    {
      "cell_type": "markdown",
      "metadata": {
        "id": "WM5dgAsBTECk",
        "colab_type": "text"
      },
      "source": [
        "# Control flow statements\n",
        "- conditional statements\n",
        "- looping statements"
      ]
    },
    {
      "cell_type": "markdown",
      "metadata": {
        "id": "K10jaivNTddR",
        "colab_type": "text"
      },
      "source": [
        "# if else statements\n",
        "## syntax\n",
        "# if Boolean_condition\n",
        "# statements\n",
        "#else:\n",
        "#statements"
      ]
    },
    {
      "cell_type": "code",
      "metadata": {
        "id": "RR9w5TP2T-6p",
        "colab_type": "code",
        "colab": {
          "base_uri": "https://localhost:8080/",
          "height": 51
        },
        "outputId": "696a300a-3809-4607-feea-1807457aa4c3"
      },
      "source": [
        "# to check given number is even or odd\n",
        "n = int(input(\"enter a number\")) \n",
        "if n%2 == 0:\n",
        "   print(n,\"is even number\")\n",
        "else:\n",
        "    print(n,\"is odd number\")"
      ],
      "execution_count": 25,
      "outputs": [
        {
          "output_type": "stream",
          "text": [
            "enter a number46\n",
            "46 is even number\n"
          ],
          "name": "stdout"
        }
      ]
    },
    {
      "cell_type": "code",
      "metadata": {
        "id": "qJY6XApEVUpI",
        "colab_type": "code",
        "colab": {
          "base_uri": "https://localhost:8080/",
          "height": 51
        },
        "outputId": "1e679b16-cf23-4112-f60a-1cc480bc045d"
      },
      "source": [
        "# to check given number is perfectly multiples of 3 and 5\n",
        "n = int(input(\"enter a number\"))\n",
        "if n%3 == 0 and n%5 == 0 :\n",
        "  print(n,\"is perfect multiple of 3 and 5\")\n",
        "else:\n",
        "  print(n,\"is not perfect multiple of 3 and 5\")"
      ],
      "execution_count": 28,
      "outputs": [
        {
          "output_type": "stream",
          "text": [
            "enter a number30\n",
            "30 is perfect multiple of 3 and 5\n"
          ],
          "name": "stdout"
        }
      ]
    },
    {
      "cell_type": "code",
      "metadata": {
        "id": "J0kM0ZlrX9q0",
        "colab_type": "code",
        "colab": {
          "base_uri": "https://localhost:8080/",
          "height": 51
        },
        "outputId": "cc99da9d-1786-4c32-81fa-4dfa69ae8c61"
      },
      "source": [
        "# to check given number is negative or positive or zero\n",
        "n = int(input(\"enter a number\"))\n",
        "if n<0:\n",
        "  print(n,\"is negative number\")\n",
        "elif n>0:\n",
        "  print(n,\"is positive number\")\n",
        "else:\n",
        "  print(n,\"is zero\")"
      ],
      "execution_count": 32,
      "outputs": [
        {
          "output_type": "stream",
          "text": [
            "enter a number2\n",
            "2 is positive number\n"
          ],
          "name": "stdout"
        }
      ]
    },
    {
      "cell_type": "code",
      "metadata": {
        "id": "BvRmfHE0ZFU2",
        "colab_type": "code",
        "colab": {
          "base_uri": "https://localhost:8080/",
          "height": 85
        },
        "outputId": "9c64db0e-bcca-4b55-f8e5-08ba80e340d4"
      },
      "source": [
        "# largest of given three numbers\n",
        "a = int(input(\"enter a\"))\n",
        "b = int(input(\"enter b\"))\n",
        "c = int(input(\"enter c\"))\n",
        "if (a>b and a>c):\n",
        "  print(a,\" is largest\")\n",
        "elif (b>a and b>c):\n",
        "  print(b,\" is largest\")\n",
        "else:\n",
        "  print(c,\" is largest\")"
      ],
      "execution_count": 39,
      "outputs": [
        {
          "output_type": "stream",
          "text": [
            "enter a1\n",
            "enter b2\n",
            "enter c3\n",
            "3  is largest\n"
          ],
          "name": "stdout"
        }
      ]
    },
    {
      "cell_type": "code",
      "metadata": {
        "id": "uGAZxpjDbuAu",
        "colab_type": "code",
        "colab": {
          "base_uri": "https://localhost:8080/",
          "height": 51
        },
        "outputId": "7f1ca7c0-f5ab-40d9-ea69-c1a6e39f35f9"
      },
      "source": [
        "# given year is leap year or not\n",
        "n = int(input(\"enter year\"))\n",
        "if n%4 == 0 and n%100!= 0:\n",
        "  print(n,\"is leap year\")\n",
        "else:\n",
        "  print(n,\"is non-leap year\")"
      ],
      "execution_count": 45,
      "outputs": [
        {
          "output_type": "stream",
          "text": [
            "enter year2000\n",
            "2000 is non-leap year\n"
          ],
          "name": "stdout"
        }
      ]
    }
  ]
}