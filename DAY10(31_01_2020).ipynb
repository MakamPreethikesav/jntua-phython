{
  "nbformat": 4,
  "nbformat_minor": 0,
  "metadata": {
    "colab": {
      "name": "DAY10(31-01-2020)",
      "provenance": [],
      "authorship_tag": "ABX9TyMzzpAGbKXnVE8+2Pic/uTi",
      "include_colab_link": true
    },
    "kernelspec": {
      "name": "python3",
      "display_name": "Python 3"
    }
  },
  "cells": [
    {
      "cell_type": "markdown",
      "metadata": {
        "id": "view-in-github",
        "colab_type": "text"
      },
      "source": [
        "<a href=\"https://colab.research.google.com/github/MakamPreethikesav/jntua-phython/blob/master/DAY10(31_01_2020).ipynb\" target=\"_parent\"><img src=\"https://colab.research.google.com/assets/colab-badge.svg\" alt=\"Open In Colab\"/></a>"
      ]
    },
    {
      "cell_type": "code",
      "metadata": {
        "id": "YKTgdDb0tzl9",
        "colab_type": "code",
        "colab": {}
      },
      "source": [
        ""
      ],
      "execution_count": 0,
      "outputs": []
    },
    {
      "cell_type": "markdown",
      "metadata": {
        "id": "nD12mZRkv7OF",
        "colab_type": "text"
      },
      "source": [
        "# LOOPS\n",
        "- WHILE LOOP\n",
        "- FOR LOOP\n"
      ]
    },
    {
      "cell_type": "code",
      "metadata": {
        "id": "P-6pniBcwD1w",
        "colab_type": "code",
        "colab": {
          "base_uri": "https://localhost:8080/",
          "height": 51
        },
        "outputId": "e71d0c93-4aff-47c0-be90-4afe181fda3b"
      },
      "source": [
        "# PRINT numbers from 1 to n\n",
        "# input 10\n",
        "# output 1 2 3  4 ....10\n",
        "n =int(input(\"enter a number :\"))\n",
        "i = 1\n",
        "while i <=n:\n",
        "  print(i,end = \"  \")\n",
        "  i = i+1\n",
        "  "
      ],
      "execution_count": 3,
      "outputs": [
        {
          "output_type": "stream",
          "text": [
            "enter a number :10\n",
            "1  2  3  4  5  6  7  8  9  10  "
          ],
          "name": "stdout"
        }
      ]
    },
    {
      "cell_type": "code",
      "metadata": {
        "id": "jcsTBXZNx2-e",
        "colab_type": "code",
        "colab": {
          "base_uri": "https://localhost:8080/",
          "height": 51
        },
        "outputId": "a394511c-a993-49a2-a713-904e6252234d"
      },
      "source": [
        "# PRINT sum of even numbers\n",
        "# input 10\n",
        "# output:(2+4+6+8+10)=30\n",
        "n =int(input(\"enter a number :\"))\n",
        "i = 0\n",
        "sum = 0\n",
        "while i <=n:\n",
        "       sum = sum+i\n",
        "       i=i+2\n",
        "print(sum)"
      ],
      "execution_count": 15,
      "outputs": [
        {
          "output_type": "stream",
          "text": [
            "enter a number :10\n",
            "30\n"
          ],
          "name": "stdout"
        }
      ]
    },
    {
      "cell_type": "code",
      "metadata": {
        "id": "3EUDgRPR1001",
        "colab_type": "code",
        "colab": {
          "base_uri": "https://localhost:8080/",
          "height": 51
        },
        "outputId": "42e5470a-c6a2-4939-b2ef-c2b104b885e0"
      },
      "source": [
        "# print palindrome number\n",
        "# input 123\n",
        "# output 321\n",
        "n =int(input(\"enter a number :\"))\n",
        "rem=0\n",
        "num=0\n",
        "while n>0:\n",
        "  rem=n%10\n",
        "  num=num*10+rem\n",
        "  n=n//10\n",
        "print(num)"
      ],
      "execution_count": 18,
      "outputs": [
        {
          "output_type": "stream",
          "text": [
            "enter a number :123\n",
            "321\n"
          ],
          "name": "stdout"
        }
      ]
    },
    {
      "cell_type": "markdown",
      "metadata": {
        "id": "jWte1rEI7gvj",
        "colab_type": "text"
      },
      "source": [
        "# FUNCTIONAL PROGRAMMING\n",
        "- simple\n",
        "- easy to understand\n",
        "- better reuseability\n",
        "- length program will be divided into sub programs"
      ]
    },
    {
      "cell_type": "code",
      "metadata": {
        "id": "NWsSziaZ8ZMl",
        "colab_type": "code",
        "colab": {}
      },
      "source": [
        "def nameofthefunction(<parameter>):\n",
        "   statements\n",
        "   return"
      ],
      "execution_count": 0,
      "outputs": []
    },
    {
      "cell_type": "code",
      "metadata": {
        "id": "2Yyd2TU_835O",
        "colab_type": "code",
        "colab": {
          "base_uri": "https://localhost:8080/",
          "height": 34
        },
        "outputId": "63dfe5eb-7bf4-4304-bc54-ca527715f7af"
      },
      "source": [
        "# print sum of even number\n",
        "# input:1234\n",
        "# output:(2+4)=6\n",
        "def sumofevendigits(n):\n",
        "    s = 0\n",
        "    while n!= 0:\n",
        "      r = n%10\n",
        "      if r%2==0:\n",
        "       s=s+r\n",
        "      n = n//10\n",
        "    return s\n",
        "sumofevendigits(1234)\n"
      ],
      "execution_count": 27,
      "outputs": [
        {
          "output_type": "execute_result",
          "data": {
            "text/plain": [
              "6"
            ]
          },
          "metadata": {
            "tags": []
          },
          "execution_count": 27
        }
      ]
    },
    {
      "cell_type": "code",
      "metadata": {
        "id": "QjC5OKAjBGXP",
        "colab_type": "code",
        "colab": {
          "base_uri": "https://localhost:8080/",
          "height": 34
        },
        "outputId": "b2d067b7-8c84-43f9-baaf-543288a0f93f"
      },
      "source": [
        "# print the largest digit\n",
        "def large(n):\n",
        "    prev=0\n",
        "    next=0\n",
        "    while(n!=0):\n",
        "      prev=next\n",
        "      next=n%10\n",
        "      if(prev>next):\n",
        "        next=prev\n",
        "      n=n//10\n",
        "    return next\n",
        "large(12345)"
      ],
      "execution_count": 35,
      "outputs": [
        {
          "output_type": "execute_result",
          "data": {
            "text/plain": [
              "5"
            ]
          },
          "metadata": {
            "tags": []
          },
          "execution_count": 35
        }
      ]
    },
    {
      "cell_type": "markdown",
      "metadata": {
        "id": "8UN6gSmdG-oB",
        "colab_type": "text"
      },
      "source": [
        ""
      ]
    },
    {
      "cell_type": "markdown",
      "metadata": {
        "id": "n9SBOMvoG-qH",
        "colab_type": "text"
      },
      "source": [
        "# for loop\n",
        "# syntax\n",
        "# for in range(start,stop,step):\n",
        "#     statements"
      ]
    },
    {
      "cell_type": "code",
      "metadata": {
        "id": "rc5wgOqkHSG2",
        "colab_type": "code",
        "colab": {}
      },
      "source": [
        "# syntax\n",
        "for in range(start,stop,step):\n",
        "    statements"
      ],
      "execution_count": 0,
      "outputs": []
    },
    {
      "cell_type": "code",
      "metadata": {
        "id": "puXLaJXLHsP9",
        "colab_type": "code",
        "colab": {
          "base_uri": "https://localhost:8080/",
          "height": 34
        },
        "outputId": "e65afac4-6822-4409-9233-cff7e2c53ae8"
      },
      "source": [
        "# PRINT THE NUMBERS BETWEEN LIMITS\n",
        "#input  :11 25\n",
        "#output : 11 12 13 14  ....24 25\n",
        "def printseries(fn,ln):\n",
        "  for i in range(fn,ln+1):\n",
        "    print(i,end=\" \")\n",
        "  return\n",
        "printseries(11,25)"
      ],
      "execution_count": 36,
      "outputs": [
        {
          "output_type": "stream",
          "text": [
            "11 12 13 14 15 16 17 18 19 20 21 22 23 24 25 "
          ],
          "name": "stdout"
        }
      ]
    },
    {
      "cell_type": "code",
      "metadata": {
        "id": "lwxkk92GHsOw",
        "colab_type": "code",
        "colab": {
          "base_uri": "https://localhost:8080/",
          "height": 34
        },
        "outputId": "4a23a48b-eb1a-4b5e-ccd1-f0c94c7be9a1"
      },
      "source": [
        "#input : 500,520\n",
        "#output : 500,504,508 ...520\n",
        "def printseries(fn,ln):\n",
        "  for i in range(fn,ln+1,4):\n",
        "    print(i,end=\" \")\n",
        "  return\n",
        "printseries(500,520)"
      ],
      "execution_count": 40,
      "outputs": [
        {
          "output_type": "stream",
          "text": [
            "500 504 508 512 516 520 "
          ],
          "name": "stdout"
        }
      ]
    },
    {
      "cell_type": "markdown",
      "metadata": {
        "id": "YJ0jiTbLLUBL",
        "colab_type": "text"
      },
      "source": [
        "# collection types\n",
        "- list\n",
        "- turple\n",
        "- dictionary\n"
      ]
    },
    {
      "cell_type": "markdown",
      "metadata": {
        "id": "HMtMd71lLdO3",
        "colab_type": "text"
      },
      "source": [
        "#LIST\n",
        "- one of the data structure in python\n",
        "- data structure means to store,sort and search options\n",
        "- its one common data structure in python,the items of list separated by comma and enclosed by square brackets\n",
        "-IN LIST we can change the values\n",
        "-ex:\n",
        "-list1=[1,2,3,4,5]\n",
        "-list=[\"JNTUA\",\"DASD\",\"asds\"]"
      ]
    },
    {
      "cell_type": "code",
      "metadata": {
        "id": "W-lTkKKlMeFf",
        "colab_type": "code",
        "colab": {
          "base_uri": "https://localhost:8080/",
          "height": 187
        },
        "outputId": "1bb49253-31a8-4d73-e97c-1833757326d7"
      },
      "source": [
        "li = [1,8,2,5,4]\n",
        "print(li)\n",
        "print(li[2])\n",
        "print(li[-4])\n",
        "print(li[2:])\n",
        "print(li[3:])\n",
        "print(li[2:4])\n",
        "print(li[-3:-1])\n",
        "print(li[::2])\n",
        "print(li[::1])\n",
        "print(li[::3])"
      ],
      "execution_count": 53,
      "outputs": [
        {
          "output_type": "stream",
          "text": [
            "[1, 8, 2, 5, 4]\n",
            "2\n",
            "8\n",
            "[2, 5, 4]\n",
            "[5, 4]\n",
            "[2, 5]\n",
            "[2, 5]\n",
            "[1, 2, 4]\n",
            "[1, 8, 2, 5, 4]\n",
            "[1, 5]\n"
          ],
          "name": "stdout"
        }
      ]
    },
    {
      "cell_type": "code",
      "metadata": {
        "id": "AESmfGQgZ8Tm",
        "colab_type": "code",
        "colab": {
          "base_uri": "https://localhost:8080/",
          "height": 68
        },
        "outputId": "e2710c1e-e1fd-4b26-f64b-6f903a798c42"
      },
      "source": [
        "# UPDATE LIST\n",
        "li = [\"JNTUA\",8,\"ANTPR\",5,4]\n",
        "print(li)\n",
        "li[1]=\"154\"\n",
        "print(li)\n",
        "# delete list item\n",
        "del li[3]\n",
        "print(li)\n"
      ],
      "execution_count": 57,
      "outputs": [
        {
          "output_type": "stream",
          "text": [
            "['JNTUA', 8, 'ANTPR', 5, 4]\n",
            "['JNTUA', '154', 'ANTPR', 5, 4]\n",
            "['JNTUA', '154', 'ANTPR', 4]\n"
          ],
          "name": "stdout"
        }
      ]
    },
    {
      "cell_type": "code",
      "metadata": {
        "id": "42vOYSgfav83",
        "colab_type": "code",
        "colab": {
          "base_uri": "https://localhost:8080/",
          "height": 85
        },
        "outputId": "797aa600-1ab8-45ec-afc3-dd5c63ee6d5e"
      },
      "source": [
        "# Basic List operations\n",
        "li = [1,2,3,4,5]\n",
        "print(len(li))\n",
        "print(li*2)\n",
        "print(4 in li)\n",
        "print(6 in li)"
      ],
      "execution_count": 60,
      "outputs": [
        {
          "output_type": "stream",
          "text": [
            "5\n",
            "[1, 2, 3, 4, 5, 1, 2, 3, 4, 5]\n",
            "True\n",
            "False\n"
          ],
          "name": "stdout"
        }
      ]
    },
    {
      "cell_type": "markdown",
      "metadata": {
        "id": "LuA3pla9ciG0",
        "colab_type": "text"
      },
      "source": [
        "# list functions\n",
        "- max\n",
        "- min\n",
        "- sum \n",
        "- append\n",
        "- insert\n",
        "- count\n",
        "- index\n",
        "- sort\n",
        "- pop"
      ]
    },
    {
      "cell_type": "code",
      "metadata": {
        "id": "Tag0xsWlc9Np",
        "colab_type": "code",
        "colab": {
          "base_uri": "https://localhost:8080/",
          "height": 231
        },
        "outputId": "0bef3b90-bfd9-4c34-d6c8-858c4d91f96a"
      },
      "source": [
        "li = [1,2,3,4,5]\n",
        "print(max(li))\n",
        "print(min(li))\n",
        "print(sum())"
      ],
      "execution_count": 63,
      "outputs": [
        {
          "output_type": "stream",
          "text": [
            "5\n",
            "1\n"
          ],
          "name": "stdout"
        },
        {
          "output_type": "error",
          "ename": "TypeError",
          "evalue": "ignored",
          "traceback": [
            "\u001b[0;31m---------------------------------------------------------------------------\u001b[0m",
            "\u001b[0;31mTypeError\u001b[0m                                 Traceback (most recent call last)",
            "\u001b[0;32m<ipython-input-63-5585bf0fba92>\u001b[0m in \u001b[0;36m<module>\u001b[0;34m()\u001b[0m\n\u001b[1;32m      2\u001b[0m \u001b[0mprint\u001b[0m\u001b[0;34m(\u001b[0m\u001b[0mmax\u001b[0m\u001b[0;34m(\u001b[0m\u001b[0mli\u001b[0m\u001b[0;34m)\u001b[0m\u001b[0;34m)\u001b[0m\u001b[0;34m\u001b[0m\u001b[0;34m\u001b[0m\u001b[0m\n\u001b[1;32m      3\u001b[0m \u001b[0mprint\u001b[0m\u001b[0;34m(\u001b[0m\u001b[0mmin\u001b[0m\u001b[0;34m(\u001b[0m\u001b[0mli\u001b[0m\u001b[0;34m)\u001b[0m\u001b[0;34m)\u001b[0m\u001b[0;34m\u001b[0m\u001b[0;34m\u001b[0m\u001b[0m\n\u001b[0;32m----> 4\u001b[0;31m \u001b[0mprint\u001b[0m\u001b[0;34m(\u001b[0m\u001b[0msum\u001b[0m\u001b[0;34m(\u001b[0m\u001b[0mli\u001b[0m\u001b[0;34m)\u001b[0m\u001b[0;34m)\u001b[0m\u001b[0;34m\u001b[0m\u001b[0;34m\u001b[0m\u001b[0m\n\u001b[0m",
            "\u001b[0;31mTypeError\u001b[0m: 'int' object is not callable"
          ]
        }
      ]
    }
  ]
}